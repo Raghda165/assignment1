{
  "nbformat": 4,
  "nbformat_minor": 0,
  "metadata": {
    "colab": {
      "provenance": []
    },
    "kernelspec": {
      "name": "python3",
      "display_name": "Python 3"
    },
    "language_info": {
      "name": "python"
    }
  },
  "cells": [
    {
      "cell_type": "markdown",
      "source": [
        "#Data Science Tools And Ecosystem"
      ],
      "metadata": {
        "id": "QsIeXbHIw2RT"
      }
    },
    {
      "cell_type": "markdown",
      "source": [
        "## in this notebook data science tools and ecosystem are summerized ."
      ],
      "metadata": {
        "id": "iIEQV2YkyEsc"
      }
    },
    {
      "cell_type": "markdown",
      "source": [
        "###Some of the popular languages that Data Scientists use are:\n",
        "1. R\n",
        "2. Python\n",
        "3. SQL"
      ],
      "metadata": {
        "id": "fZkf4bGizLRj"
      }
    },
    {
      "cell_type": "markdown",
      "source": [
        "### Some of the commonly used libraries used by Data Scientists include:\n",
        "1. Numpy\n",
        "2. Pandas\n",
        "3. ggplot"
      ],
      "metadata": {
        "id": "hy1PhVv10DoI"
      }
    },
    {
      "cell_type": "markdown",
      "source": [
        "|Data science tools|\n",
        "|-------------------|\n",
        "|Rstudio|\n",
        "|Apache spark|\n",
        "|TensorFlow|"
      ],
      "metadata": {
        "id": "-y9sdhQD2Bph"
      }
    },
    {
      "cell_type": "markdown",
      "source": [
        "###Below are a few examples of evaluating arithmetic expressions in Python."
      ],
      "metadata": {
        "id": "GsoXCk_o3HgP"
      }
    },
    {
      "cell_type": "code",
      "source": [
        "# This a simple arithmetic expression to mutiply then add integers\n",
        "(3*4)+5"
      ],
      "metadata": {
        "colab": {
          "base_uri": "https://localhost:8080/"
        },
        "id": "eEGyxrx02d5x",
        "outputId": "df1adb68-17de-4973-808f-e05eda85335b"
      },
      "execution_count": 2,
      "outputs": [
        {
          "output_type": "execute_result",
          "data": {
            "text/plain": [
              "17"
            ]
          },
          "metadata": {},
          "execution_count": 2
        }
      ]
    },
    {
      "cell_type": "code",
      "source": [
        " #This will convert 200 minutes to hours by diving by 60\n",
        " hours=200/60\n",
        " print(hours)"
      ],
      "metadata": {
        "colab": {
          "base_uri": "https://localhost:8080/"
        },
        "id": "mrcvSzvk38S7",
        "outputId": "95bd13c5-73eb-4797-ccb4-10928998e293"
      },
      "execution_count": 4,
      "outputs": [
        {
          "output_type": "stream",
          "name": "stdout",
          "text": [
            "3.3333333333333335\n"
          ]
        }
      ]
    },
    {
      "cell_type": "markdown",
      "source": [
        "**Objectives**\n",
        "- data science tools\n",
        "- data science languages\n",
        "- some arthematic operations"
      ],
      "metadata": {
        "id": "KXrZPkYN6CtV"
      }
    },
    {
      "cell_type": "markdown",
      "source": [
        "##Auther\n",
        "Ragda"
      ],
      "metadata": {
        "id": "k8YDwZjI7Jqt"
      }
    },
    {
      "cell_type": "code",
      "source": [],
      "metadata": {
        "id": "8UK4JY5B7SDv"
      },
      "execution_count": null,
      "outputs": []
    }
  ]
}